{
  "cells": [
    {
      "cell_type": "markdown",
      "metadata": {},
      "source": [
        "Для работы был выбран третий датасет из списка под названием «3cancer». В данном датасете представлена информация о пациентах, болеющих раком: id,   Толщина скопления, Однородность размера клеток,  Однородность формы клеток, Краевая адгезия, Размер отдельных эпителиальных клеток,  Голые ядра,  Бледный хроматин, \n",
        "Нормальные ядрышки, Митозы, Класс(2 для доброкачественных, 4 для злокачественных). Чтобы начать работу, импортируем библиотеку, а затем считываем CSV файл.Выведем первые 20 строк с помощью метода head."
      ]
    },
    {
      "cell_type": "code",
      "execution_count": 1,
      "metadata": {
        "trusted": true
      },
      "outputs": [
        {
          "name": "stdout",
          "output_type": "stream",
          "text": [
            "         id  clump_thickness  size_uniformity  shape_uniformity  \\\n",
            "0   1000025                5                1                 1   \n",
            "1   1002945                5                4                 4   \n",
            "2   1015425                3                1                 1   \n",
            "3   1016277                6                8                 8   \n",
            "4   1017023                4                1                 1   \n",
            "5   1017122                8               10                10   \n",
            "6   1018099                1                1                 1   \n",
            "7   1018561                2                1                 2   \n",
            "8   1033078                2                1                 1   \n",
            "9   1033078                4                2                 1   \n",
            "10  1035283                1                1                 1   \n",
            "11  1036172                2                1                 1   \n",
            "12  1041801                5                3                 3   \n",
            "13  1043999                1                1                 1   \n",
            "14  1044572                8                7                 5   \n",
            "15  1047630                7                4                 6   \n",
            "16  1048672                4                1                 1   \n",
            "17  1049815                4                1                 1   \n",
            "18  1050670               10                7                 7   \n",
            "19  1050718                6                1                 1   \n",
            "\n",
            "    marginal_adhesion  epithelial_size bare_nucleoli  bland_chromatin  \\\n",
            "0                   1                2             1                3   \n",
            "1                   5                7            10                3   \n",
            "2                   1                2             2                3   \n",
            "3                   1                3             4                3   \n",
            "4                   3                2             1                3   \n",
            "5                   8                7            10                9   \n",
            "6                   1                2            10                3   \n",
            "7                   1                2             1                3   \n",
            "8                   1                2             1                1   \n",
            "9                   1                2             1                2   \n",
            "10                  1                1             1                3   \n",
            "11                  1                2             1                2   \n",
            "12                  3                2             3                4   \n",
            "13                  1                2             3                3   \n",
            "14                 10                7             9                5   \n",
            "15                  4                6             1                4   \n",
            "16                  1                2             1                2   \n",
            "17                  1                2             1                3   \n",
            "18                  6                4            10                4   \n",
            "19                  1                2             1                3   \n",
            "\n",
            "    normal_nucleoli  mitoses  class  \n",
            "0                 1        1      2  \n",
            "1                 2        1      2  \n",
            "2                 1        1      2  \n",
            "3                 7        1      2  \n",
            "4                 1        1      2  \n",
            "5                 7        1      4  \n",
            "6                 1        1      2  \n",
            "7                 1        1      2  \n",
            "8                 1        5      2  \n",
            "9                 1        1      2  \n",
            "10                1        1      2  \n",
            "11                1        1      2  \n",
            "12                4        1      4  \n",
            "13                1        1      2  \n",
            "14                5        4      4  \n",
            "15                3        1      4  \n",
            "16                1        1      2  \n",
            "17                1        1      2  \n",
            "18                1        2      4  \n",
            "19                1        1      2  \n"
          ]
        }
      ],
      "source": [
        "import pandas as pd\n",
        "\n",
        "df = pd.read_csv(\"3cancer.csv\")\n",
        "\n",
        "#2\n",
        "print(df.head(20))"
      ]
    },
    {
      "cell_type": "markdown",
      "metadata": {},
      "source": [
        "Как уже было сказано, данная таблица содержит информацию об анализах пациентов с раком. Предметная область – медицина. \n",
        "Опишем колонки подробнее:\n",
        "1. id\n",
        "2. Толщина скопления: 1–10\n",
        "3. Однородность размера клеток: 1–10\n",
        "4. Однородность формы клеток: 1–10\n",
        "5. Краевая адгезия: 1–10\n",
        "6. Размер отдельных эпителиальных клеток : 1 - 10\n",
        "7. Голые ядра: 1 - 10\n",
        "8. Бледный хроматин: 1 - 10\n",
        "9. Нормальные ядрышки: 1 - 10\n",
        "10. Митозы: 1 - 10\n",
        "11. Класс: (2 для доброкачественных, 4 для\n",
        "злокачественных)\n",
        "    Теперь с помощью метода «.info» оценим данные. Этот метод возвращает название столбцов, типы данных, количество ненулевых объектов каждом столбце."
      ]
    },
    {
      "cell_type": "code",
      "execution_count": 14,
      "metadata": {
        "trusted": true
      },
      "outputs": [
        {
          "name": "stdout",
          "output_type": "stream",
          "text": [
            "<class 'pandas.core.frame.DataFrame'>\n",
            "RangeIndex: 699 entries, 0 to 698\n",
            "Data columns (total 11 columns):\n",
            " #   Column             Non-Null Count  Dtype \n",
            "---  ------             --------------  ----- \n",
            " 0   id                 699 non-null    int64 \n",
            " 1   clump_thickness    699 non-null    int64 \n",
            " 2   size_uniformity    699 non-null    int64 \n",
            " 3   shape_uniformity   699 non-null    int64 \n",
            " 4   marginal_adhesion  699 non-null    int64 \n",
            " 5   epithelial_size    699 non-null    int64 \n",
            " 6   bare_nucleoli      699 non-null    object\n",
            " 7   bland_chromatin    699 non-null    int64 \n",
            " 8   normal_nucleoli    699 non-null    int64 \n",
            " 9   mitoses            699 non-null    int64 \n",
            " 10  class              699 non-null    int64 \n",
            "dtypes: int64(10), object(1)\n",
            "memory usage: 60.2+ KB\n"
          ]
        }
      ],
      "source": [
        "df.info()"
      ]
    },
    {
      "cell_type": "markdown",
      "metadata": {},
      "source": [
        "Теперь выведем названия столбцов с помощью df.columns. Названия всех колонок приемлемы."
      ]
    },
    {
      "cell_type": "code",
      "execution_count": 2,
      "metadata": {
        "trusted": true
      },
      "outputs": [
        {
          "name": "stdout",
          "output_type": "stream",
          "text": [
            "Index(['id', 'clump_thickness', 'size_uniformity', 'shape_uniformity',\n",
            "       'marginal_adhesion', 'epithelial_size', 'bare_nucleoli',\n",
            "       'bland_chromatin', 'normal_nucleoli', 'mitoses', 'class'],\n",
            "      dtype='object')\n"
          ]
        }
      ],
      "source": [
        "print(df.columns)"
      ]
    },
    {
      "cell_type": "markdown",
      "metadata": {},
      "source": [
        "Найдём пропуски и устраним их. При помощи метода «isna» найдём все пропуски в таблице, а также при помощи sum выведем количество пропусков в каждом столбце. Пропусков в данном наборе данных нет."
      ]
    },
    {
      "cell_type": "code",
      "execution_count": 3,
      "metadata": {
        "trusted": true
      },
      "outputs": [
        {
          "name": "stdout",
          "output_type": "stream",
          "text": [
            "id                   0\n",
            "clump_thickness      0\n",
            "size_uniformity      0\n",
            "shape_uniformity     0\n",
            "marginal_adhesion    0\n",
            "epithelial_size      0\n",
            "bare_nucleoli        0\n",
            "bland_chromatin      0\n",
            "normal_nucleoli      0\n",
            "mitoses              0\n",
            "class                0\n",
            "dtype: int64\n"
          ]
        }
      ],
      "source": [
        "print(df.isna().sum())"
      ]
    },
    {
      "cell_type": "markdown",
      "metadata": {},
      "source": [
        "Проверим данные на наличие дубликатов. Удалим дубликаты, при помощи метода \"drop_duplicates\", а также перераспредилм индексы. Также выведем уникальные значения каждого столбца. Столбец 'bare_nucleoli' содержит некорректные значения '?'. Заменим их при помощи метода 'replace' на NaN, и выкинем их."
      ]
    },
    {
      "cell_type": "code",
      "execution_count": 4,
      "metadata": {
        "trusted": true
      },
      "outputs": [
        {
          "name": "stdout",
          "output_type": "stream",
          "text": [
            "Количесвто дубликатов: 8\n",
            "Количесвто дубликатов: 0\n",
            "Uniqe id\n",
            "[ 1000025  1002945  1015425  1016277  1017023  1017122  1018099  1018561\n",
            "  1033078  1035283  1036172  1041801  1043999  1044572  1047630  1048672\n",
            "  1049815  1050670  1050718  1054590  1054593  1056784  1057013  1059552\n",
            "  1065726  1066373  1066979  1067444  1070935  1071760  1072179  1074610\n",
            "  1075123  1079304  1080185  1081791  1084584  1091262  1096800  1099510\n",
            "  1100524  1102573  1103608  1103722  1105257  1105524  1106095  1106829\n",
            "  1108370  1108449  1110102  1110503  1110524  1111249  1112209  1113038\n",
            "  1113483  1113906  1115282  1115293  1116116  1116132  1116192  1116998\n",
            "  1117152  1118039  1120559  1121732  1121919  1123061  1124651  1125035\n",
            "  1126417  1131294  1132347  1133041  1133136  1136142  1137156  1143978\n",
            "  1147044  1147699  1147748  1148278  1148873  1152331  1155546  1156272\n",
            "  1156948  1157734  1158247  1160476  1164066  1165297  1165790  1165926\n",
            "  1166630  1166654  1167439  1167471  1168359  1168736  1169049  1170419\n",
            "  1170420  1171710  1171795  1171845  1172152  1173216  1173235  1173347\n",
            "  1173509  1173514  1173681  1174057  1174131  1174428  1175937  1176406\n",
            "  1176881  1177027  1177399  1177512  1178580  1179818  1180194  1180523\n",
            "  1180831  1181356  1182404  1182410  1183240  1183246  1183516  1183911\n",
            "  1183983  1184184  1184241  1184840  1185609  1185610  1187457  1187805\n",
            "  1188472  1189266  1189286  1190394  1190485  1192325  1193091  1193210\n",
            "  1193683  1196295  1196915  1197080  1197270  1197440  1197510  1197979\n",
            "  1197993  1198128  1198641  1199219  1199731  1199983  1200772  1200847\n",
            "  1200892  1200952  1201834  1201936  1202125  1202812  1203096  1204242\n",
            "  1204898  1205138  1205579  1206089  1206695  1206841  1207986  1208301\n",
            "  1210963  1211202  1212232  1212251  1212422  1213375  1213383  1214092\n",
            "  1214556  1214966  1216694  1216947  1217051  1217264  1218105  1218741\n",
            "  1218860  1219406  1219525  1219859  1220330  1221863  1222047  1222936\n",
            "  1223282  1223426  1223793  1223967  1224329  1225799  1226012  1226612\n",
            "  1227210  1227244  1227481  1228152  1228311  1230175  1230688  1231387\n",
            "  1231706  1232225  1236043  1241232  1241559  1241679  1242364  1243256\n",
            "  1270479  1276091  1277018   128059  1285531  1287775   144888   145447\n",
            "   167528   169356   183913   191250   242970   255644   263538   274137\n",
            "   303213   314428   320675   324427   385103   390840   411453   428903\n",
            "   431495   432809   434518   452264   456282   476903   486283   486662\n",
            "   488173   492268   508234   527363   529329   535331   543558   555977\n",
            "   560680   561477   563649   601265   606140   606722   616240    61634\n",
            "   625201    63375   635844   636130   640744   646904   653777   659642\n",
            "   666090   666942   667204   673637   684955   688033   691628   693702\n",
            "   704097   704168   706426   709287   718641   721482   730881   733639\n",
            "   733823   740492   743348   752904   756136   760001   760239    76389\n",
            "   764974   770066   785208   785615   792744   797327   798429   806423\n",
            "   809912   810104   814265   814911   822829   826923   830690   831268\n",
            "   832226   832567   836433   837082   846832   850831   855524   857774\n",
            "   859164   859350   866325   873549   877291   877943   888169   888523\n",
            "   896404   897172    95719   160296   342245   428598   492561   493452\n",
            "   521441   636437   640712   654244   657753   685977   805448   846423\n",
            "  1002504  1022257  1026122  1071084  1080233  1114570  1116715  1131411\n",
            "  1151734  1156017  1158405  1168278  1176187  1196263  1196475  1206314\n",
            "  1211265  1213784  1223003  1223306  1223543  1229929  1231853  1234554\n",
            "  1236837  1237674  1238021  1238464  1238633  1238915  1238948  1239232\n",
            "  1239347  1239967  1240337  1253505  1255384  1257200  1257648  1257815\n",
            "  1257938  1258549  1258556  1266154  1272039  1277629  1293439  1294562\n",
            "  1295186   527337   558538   566509   608157   677910   734111   780555\n",
            "   827627  1049837  1058849  1193544  1201870  1202253  1227081  1230994\n",
            "  1238410  1246562  1257470  1259008  1266124  1267898  1268313  1268804\n",
            "  1280258  1293966  1296572  1298416  1299596  1181685  1211594  1238777\n",
            "  1257608  1269574  1277145  1287282  1296025  1296263  1296593  1299161\n",
            "  1301945  1302428  1318169   474162   787451  1002025  1070522  1073960\n",
            "  1076352  1084139  1119189  1133991  1142706  1155967  1170945  1181567\n",
            "  1204558  1217952  1224565  1238186  1253917  1265899  1268766  1277268\n",
            "  1286943  1295508  1297327  1297522  1298360  1299924  1299994  1304595\n",
            "  1306282  1313325  1320077  1320304  1330439   333093   369565   412300\n",
            "   672113   749653   769612   807657  8233704   837480   867392   869828\n",
            "  1043068  1056171  1061990  1113061  1135090  1145420  1158157  1171578\n",
            "  1174841  1184586  1186936  1197527  1222464  1240603  1241035  1287971\n",
            "  1289391  1306339  1313658  1313982  1321264  1321321  1321348  1321931\n",
            "  1321942  1328331  1328755  1331405  1331412  1333104  1334071  1343068\n",
            "  1343374  1344121   142932   183936   324382   378275   690557   695091\n",
            "   695219   824249   871549   878358  1107684  1115762  1217717  1239420\n",
            "  1254538  1261751  1268275  1272166  1294261  1295529  1298484  1311875\n",
            "  1315506  1320141  1325309  1333063  1333495  1334659  1336798  1344449\n",
            "  1350568  1352663   188336   352431   353098   557583   636375   736150\n",
            "   803531  1016634  1031608  1041043  1042252  1057067  1073836  1083817\n",
            "  1096352  1140597  1149548  1174009  1183596  1190386  1190546  1213273\n",
            "  1218982  1225382  1235807  1253955  1257366  1260659  1268952  1275807\n",
            "  1277792  1285722  1288608  1290203  1294413  1303489  1311033  1311108\n",
            "  1315807  1318671  1319609  1323477  1324572  1324681  1325159  1326892\n",
            "  1330361  1333877  1334015  1334667  1339781 13454352  1345452  1345593\n",
            "  1347749  1347943  1348851  1350319  1350423  1352848  1353092  1354840\n",
            "  1355260  1365075  1365328  1368267  1368273  1368882  1369821  1371026\n",
            "  1371920   466906   534555   536708   566346   603148   654546   714039\n",
            "   763235   776715   841769   888820   897471]\n",
            "Uniqe clump_thickness\n",
            "[ 5  3  6  4  8  1  2  7 10  9]\n",
            "Uniqe size_uniformity\n",
            "[ 1  4  8 10  2  3  7  5  6  9]\n",
            "Uniqe shape_uniformity\n",
            "[ 1  4  8 10  2  3  5  6  7  9]\n",
            "Uniqe marginal_adhesion\n",
            "[ 1  5  3  8 10  4  6  2  9  7]\n",
            "Uniqe epithelial_size\n",
            "[ 2  7  3  1  6  4  5  8 10  9]\n",
            "Uniqe bare_nucleoli\n",
            "['1' '10' '2' '4' '3' '9' '7' '?' '5' '8' '6']\n",
            "Uniqe bland_chromatin\n",
            "[ 3  9  1  2  4  5  7  8  6 10]\n",
            "Uniqe normal_nucleoli\n",
            "[ 1  2  7  4  5  3 10  6  9  8]\n",
            "Uniqe mitoses\n",
            "[ 1  5  4  2  3  7 10  8  6]\n",
            "Uniqe class \n",
            "[2 4]\n",
            "Uniqe bare_nucleoli\n",
            "['1' '10' '2' '4' '3' '9' '7' '5' '8' '6']\n"
          ]
        }
      ],
      "source": [
        "import numpy as np\n",
        "\n",
        "print(\"Количесвто дубликатов: \" + str(df.duplicated().sum()))\n",
        "df = df.drop_duplicates().reset_index()\n",
        "print(\"Количесвто дубликатов: \" + str(df.duplicated().sum()))\n",
        "\n",
        "print(\"Uniqe id\")\n",
        "print(df['id'].unique())\n",
        "print(\"Uniqe clump_thickness\")\n",
        "print(df['clump_thickness'].unique())\n",
        "print(\"Uniqe size_uniformity\")\n",
        "print(df['size_uniformity'].unique())\n",
        "print(\"Uniqe shape_uniformity\")\n",
        "print(df['shape_uniformity'].unique())\n",
        "print(\"Uniqe marginal_adhesion\")\n",
        "print(df['marginal_adhesion'].unique())\n",
        "print(\"Uniqe epithelial_size\")\n",
        "print(df['epithelial_size'].unique())\n",
        "print(\"Uniqe bare_nucleoli\")\n",
        "print(df['bare_nucleoli'].unique())\n",
        "print(\"Uniqe bland_chromatin\")\n",
        "print(df['bland_chromatin'].unique())\n",
        "print(\"Uniqe normal_nucleoli\")\n",
        "print(df['normal_nucleoli'].unique())\n",
        "print(\"Uniqe mitoses\")\n",
        "print(df['mitoses'].unique())\n",
        "print(\"Uniqe class \")\n",
        "print(df['class'].unique())\n",
        "\n",
        "df['bare_nucleoli'] = df['bare_nucleoli'].replace('?', np.NaN)\n",
        "df = df.dropna(subset=['bare_nucleoli']).reset_index(drop=True)\n",
        "print(\"Uniqe bare_nucleoli\")\n",
        "print(df['bare_nucleoli'].unique())"
      ]
    },
    {
      "cell_type": "markdown",
      "metadata": {},
      "source": [
        "Проверим все ли типы данных соответствуют действительности. Все столбцы, кроме Голых ядер соответствуют своему типу. Поэтому при помощи метода «to_numeric» изменяем тип на int. Выведем информацию. "
      ]
    },
    {
      "cell_type": "code",
      "execution_count": 5,
      "metadata": {
        "trusted": true
      },
      "outputs": [
        {
          "name": "stdout",
          "output_type": "stream",
          "text": [
            "<class 'pandas.core.frame.DataFrame'>\n",
            "RangeIndex: 675 entries, 0 to 674\n",
            "Data columns (total 12 columns):\n",
            " #   Column             Non-Null Count  Dtype\n",
            "---  ------             --------------  -----\n",
            " 0   index              675 non-null    int64\n",
            " 1   id                 675 non-null    int64\n",
            " 2   clump_thickness    675 non-null    int64\n",
            " 3   size_uniformity    675 non-null    int64\n",
            " 4   shape_uniformity   675 non-null    int64\n",
            " 5   marginal_adhesion  675 non-null    int64\n",
            " 6   epithelial_size    675 non-null    int64\n",
            " 7   bare_nucleoli      675 non-null    int64\n",
            " 8   bland_chromatin    675 non-null    int64\n",
            " 9   normal_nucleoli    675 non-null    int64\n",
            " 10  mitoses            675 non-null    int64\n",
            " 11  class              675 non-null    int64\n",
            "dtypes: int64(12)\n",
            "memory usage: 63.4 KB\n"
          ]
        }
      ],
      "source": [
        "df['bare_nucleoli'] = pd.to_numeric(df['bare_nucleoli'])\n",
        "df.info()"
      ]
    },
    {
      "cell_type": "markdown",
      "metadata": {},
      "source": [
        "Прежде чем отправить данные на вход модели и получить прогнозы, проводём — EDA, или исследовательский анализ данных. На этом этапе изучим распределения отдельных признаков и целевой переменной. Построим графики методом kdeplot().\n",
        "\n",
        "Также построим тепловую карту корреляции, чтобы увидеть взаимосвязь между значениями и целевым признаком.\n",
        "\n",
        "Удалим атрибут \"id\", так как он не несёт смысловой нагрузки для модели."
      ]
    },
    {
      "cell_type": "code",
      "execution_count": 7,
      "metadata": {
        "trusted": true
      },
      "outputs": [
        {
          "name": "stderr",
          "output_type": "stream",
          "text": [
            "C:\\Users\\warfa\\AppData\\Local\\Packages\\PythonSoftwareFoundation.Python.3.9_qbz5n2kfra8p0\\LocalCache\\local-packages\\Python39\\site-packages\\seaborn\\distributions.py:1689: FutureWarning: The `vertical` parameter is deprecated and will be removed in a future version. Assign the data to the `y` variable instead.\n",
            "  warnings.warn(msg, FutureWarning)\n",
            "C:\\Users\\warfa\\AppData\\Local\\Packages\\PythonSoftwareFoundation.Python.3.9_qbz5n2kfra8p0\\LocalCache\\local-packages\\Python39\\site-packages\\seaborn\\distributions.py:1689: FutureWarning: The `vertical` parameter is deprecated and will be removed in a future version. Assign the data to the `y` variable instead.\n",
            "  warnings.warn(msg, FutureWarning)\n",
            "C:\\Users\\warfa\\AppData\\Local\\Packages\\PythonSoftwareFoundation.Python.3.9_qbz5n2kfra8p0\\LocalCache\\local-packages\\Python39\\site-packages\\seaborn\\distributions.py:1689: FutureWarning: The `vertical` parameter is deprecated and will be removed in a future version. Assign the data to the `y` variable instead.\n",
            "  warnings.warn(msg, FutureWarning)\n",
            "C:\\Users\\warfa\\AppData\\Local\\Packages\\PythonSoftwareFoundation.Python.3.9_qbz5n2kfra8p0\\LocalCache\\local-packages\\Python39\\site-packages\\seaborn\\distributions.py:1689: FutureWarning: The `vertical` parameter is deprecated and will be removed in a future version. Assign the data to the `y` variable instead.\n",
            "  warnings.warn(msg, FutureWarning)\n",
            "C:\\Users\\warfa\\AppData\\Local\\Packages\\PythonSoftwareFoundation.Python.3.9_qbz5n2kfra8p0\\LocalCache\\local-packages\\Python39\\site-packages\\seaborn\\distributions.py:1689: FutureWarning: The `vertical` parameter is deprecated and will be removed in a future version. Assign the data to the `y` variable instead.\n",
            "  warnings.warn(msg, FutureWarning)\n",
            "C:\\Users\\warfa\\AppData\\Local\\Packages\\PythonSoftwareFoundation.Python.3.9_qbz5n2kfra8p0\\LocalCache\\local-packages\\Python39\\site-packages\\seaborn\\distributions.py:1689: FutureWarning: The `vertical` parameter is deprecated and will be removed in a future version. Assign the data to the `y` variable instead.\n",
            "  warnings.warn(msg, FutureWarning)\n",
            "C:\\Users\\warfa\\AppData\\Local\\Packages\\PythonSoftwareFoundation.Python.3.9_qbz5n2kfra8p0\\LocalCache\\local-packages\\Python39\\site-packages\\seaborn\\distributions.py:1689: FutureWarning: The `vertical` parameter is deprecated and will be removed in a future version. Assign the data to the `y` variable instead.\n",
            "  warnings.warn(msg, FutureWarning)\n",
            "C:\\Users\\warfa\\AppData\\Local\\Packages\\PythonSoftwareFoundation.Python.3.9_qbz5n2kfra8p0\\LocalCache\\local-packages\\Python39\\site-packages\\seaborn\\distributions.py:1689: FutureWarning: The `vertical` parameter is deprecated and will be removed in a future version. Assign the data to the `y` variable instead.\n",
            "  warnings.warn(msg, FutureWarning)\n",
            "C:\\Users\\warfa\\AppData\\Local\\Packages\\PythonSoftwareFoundation.Python.3.9_qbz5n2kfra8p0\\LocalCache\\local-packages\\Python39\\site-packages\\seaborn\\distributions.py:1689: FutureWarning: The `vertical` parameter is deprecated and will be removed in a future version. Assign the data to the `y` variable instead.\n",
            "  warnings.warn(msg, FutureWarning)\n",
            "C:\\Users\\warfa\\AppData\\Local\\Packages\\PythonSoftwareFoundation.Python.3.9_qbz5n2kfra8p0\\LocalCache\\local-packages\\Python39\\site-packages\\seaborn\\distributions.py:1689: FutureWarning: The `vertical` parameter is deprecated and will be removed in a future version. Assign the data to the `y` variable instead.\n",
            "  warnings.warn(msg, FutureWarning)\n"
          ]
        },
        {
          "data": {
            "image/png": "[encoded data removed]",
            "text/plain": [
              "<Figure size 432x288 with 1 Axes>"
            ]
          },
          "metadata": {
            "needs_background": "light"
          },
          "output_type": "display_data"
        },
        {
          "data": {
            "image/png": "[encoded data removed]",
            "text/plain": [
              "<Figure size 432x288 with 2 Axes>"
            ]
          },
          "metadata": {
            "needs_background": "light"
          },
          "output_type": "display_data"
        }
      ],
      "source": [
        "import seaborn as sb\n",
        "import matplotlib.pyplot as plt\n",
        "sb.kdeplot(df['clump_thickness'],vertical=True,color='blue',shade=False, label='clump_thickness')\n",
        "sb.kdeplot(df['size_uniformity'],vertical=True,color='red',shade=False)\n",
        "sb.kdeplot(df['shape_uniformity'],vertical=True,color='green',shade=False)\n",
        "sb.kdeplot(df['marginal_adhesion'],vertical=True,color='yellow',shade=False)\n",
        "sb.kdeplot(df['epithelial_size'],vertical=True,color='cyan',shade=False)\n",
        "sb.kdeplot(df['bare_nucleoli'],vertical=True,color='orange',shade=False)\n",
        "sb.kdeplot(df['bland_chromatin'],vertical=True,color='violet',shade=False)\n",
        "sb.kdeplot(df['normal_nucleoli'],vertical=True,color='pink',shade=False)\n",
        "sb.kdeplot(df['mitoses'],vertical=True,color='black',shade=False)\n",
        "sb.kdeplot(df['class'],vertical=True,color='olive',shade=False)\n",
        "plt.show()\n",
        "\n",
        "corr = df.corr(method = 'pearson')\n",
        "sb.heatmap(corr, cmap=\"Blues\", annot=True)\n",
        "plt.show()\n",
        "\n",
        "df = df.drop('id', axis = 1)"
      ]
    },
    {
      "cell_type": "markdown",
      "metadata": {},
      "source": [
        "Перед тем как разделять данные на тестовую и обучающую выборки и обучать на них различные модели, пропишем функцию проверки обученной модели, чтобы затем было проще её вызывать.\n",
        "\n",
        "Матрица ошибок\n",
        "Возможные значения классов: 2 и 4. Модель тоже может выдавать итоговый прогноз в виде значения одного из двух классов. Тогда для каждого объекта прогноз относится к одной из четырех групп:\n",
        "1) Прогноз модели = 1, реальное значение = 1. Такие прогнозы называют True Positive («истинно положительные») — сокращённо TP.\n",
        "2) Прогноз модели = 1, реальное значение = 0. Такие прогнозы называют False Positive («ложно положительные») — сокращённо FP.\n",
        "3) Прогноз модели = 0, реальное значение = 1. Такие прогнозы называют False Negative («ложно отрицательные») — сокращённо FN.\n",
        "4) Прогноз модели = 0, реальное значение = 0. Такие прогнозы называют True Negative («истинно отрицательные») — сокращённо TN\n",
        "\n",
        "Доля правильных ответов\n",
        "Это доля верно угаданных ответов из всех прогнозов. Чем ближе значение accuracy к 100%, тем лучше. Метрику рассчитывают функцией accuracy_score из модуля metrics. На вход функция принимает верные и спрогнозированные значения классов на валидационной выборке.\n",
        "\n",
        "Точность (precision) и полнота (recall)\n",
        "Чтобы оценить модель без привязки к соотношению классов, рассчитывают эти метрики.\n",
        "Precision говорит, какая доля прогнозов относительно \"1\" класса верна. То есть смотрим долю правильных ответов только среди целевого класса.\n",
        "Вторая метрика нацелена на минимизацию противоположных рисков — recall показывает, сколько реальных объектов \"1\" класса вы смогли обнаружить с помощью модели.\n",
        "Каждая метрика принимает значения от 0 до 1. Чем ближе к единице, тем лучше. Однако при настройке параметров модели — обычно порога вероятности, после которого мы относим объект к классу \"1\" — оптимизация одной метрики часто приводит к ухудшению другой. Метрики точности и полноты также реализованы в модуле metrics в функциях \"precision_score\" и \"recall_score\".\n",
        "\n",
        "F1-мера\n",
        "Так как precision и recall направлены на избежание противоположных рисков, нужна сводная метрика, учитывающая баланс между метриками. В sklearn.metrics F1-меру вычисляют методом \"f1_score\".\n",
        "\n",
        "ROC - кривая\n",
        "Для оценки качества классификатора (модели классификации) применяют метрику roc_auc, или площадь под кривой ошибок — AUC-ROC. Для оценки качества классификатора (модели классификации) применяют метрику roc_auc, или площадь под кривой ошибок — AUC-ROC. "
      ]
    },
    {
      "cell_type": "code",
      "execution_count": 19,
      "metadata": {},
      "outputs": [],
      "source": [
        "from sklearn.metrics import confusion_matrix, precision_score, recall_score, f1_score\n",
        "from sklearn import metrics\n",
        "from sklearn.metrics import accuracy_score, roc_auc_score\n",
        "def ROC_curve (test_y,roc_auc,rf_probs):\n",
        "    test_y = test_y.replace(to_replace = 2, value = 0)\n",
        "    test_y = test_y.replace(to_replace = 4, value = 1)\n",
        "    print (test_y)\n",
        "    fpr, tpr, _ = metrics.roc_curve (test_y, rf_probs)\n",
        "\n",
        "    #create ROC curve\n",
        "    plt.plot (fpr,tpr,label=\" AUC= \"+str(roc_auc))\n",
        "    plt.ylabel('True Positive Rate')\n",
        "    plt.xlabel('False Positive Rate')\n",
        "    plt.show() \n",
        "\n",
        "def model_check (test_y,predictions,rf_probs):\n",
        "    # Матрица ошибок\n",
        "    cm = confusion_matrix(test_y,predictions)\n",
        "    tn, fp, fn, tp = cm.ravel() # \"выпрямляем\" матрицу,чтобы вытащить нужные значения\n",
        "    print(\"Матрица ошибок:\")\n",
        "    print(\"TN:\" + str(tn), \"FP:\" + str(fp),\"FN:\" + str(fn),\"TP:\" + str(tp))\n",
        "    \n",
        "    #Доля правильных ответов\n",
        "    acc = accuracy_score(test_y,predictions)\n",
        "    print(\"Accuracy score = \" + str(acc))\n",
        "\n",
        "    #Точность (precision) и полнота (recall)\n",
        "    precision = precision_score (test_y,predictions,pos_label=2)\n",
        "    recall = recall_score (test_y,predictions,pos_label=2)\n",
        "    print(\"precision_score = \" + str(precision))\n",
        "    print(\"recall_score = \" + str(recall))\n",
        "\n",
        "    #F1-мера\n",
        "    f1= f1_score(test_y,predictions, pos_label=2)\n",
        "    print(\"F1 score = \" + str(f1))\n",
        "\n",
        "    #ROC кривая\n",
        "    roc_auc = roc_auc_score(test_y,rf_probs)\n",
        "    print(\"ROC = \" + str(roc_auc))\n",
        "    ROC_curve (test_y,roc_auc,rf_probs)"
      ]
    },
    {
      "cell_type": "markdown",
      "metadata": {},
      "source": [
        "Теперь разделим набор данных на тестовую и обучающую выборки соотношением 3 к 7.\n",
        "\n",
        "Произведём обучение и прогнозирование методом fit-predict. Каждой модели в sklearn соответствует отдельная структура данных. DecisionTreeClassifier (англ. «классификатор дерева решений») — это структура данных для классификации деревом решений.\n",
        "\n",
        "В переменной model будет храниться модель. Что обучить модель, нужно запустить\n",
        "алгоритм обучения.\n",
        "\n",
        "Разделим датафрейм на столбец с целевой переменной (class) и остальные данные. Теперь уже можно построить взаимосвязь и на её основании спрогнозировать y по новым X. Чтобы запустить обучение, вызовем метод fit() и передадим ему как параметр данные.\n",
        "\n",
        "Чтобы построить прогнозы для набора данных, хватит одной строчки кода и вызова метода predict(). У нас осталась отложенная порция данных, для которых мы знаем признаки и ответы. На этом этапе мы берём только признаки, передаём их на вход обученной модели и сохраняем предсказанные значения.\n",
        "\n",
        "Теперь вызываем функцию оценки качества и смотрим на оценки и график."
      ]
    },
    {
      "cell_type": "code",
      "execution_count": 18,
      "metadata": {},
      "outputs": [
        {
          "name": "stdout",
          "output_type": "stream",
          "text": [
            "<class 'pandas.core.frame.DataFrame'>\n",
            "Int64Index: 472 entries, 589 to 300\n",
            "Data columns (total 12 columns):\n",
            " #   Column             Non-Null Count  Dtype\n",
            "---  ------             --------------  -----\n",
            " 0   index              472 non-null    int64\n",
            " 1   id                 472 non-null    int64\n",
            " 2   clump_thickness    472 non-null    int64\n",
            " 3   size_uniformity    472 non-null    int64\n",
            " 4   shape_uniformity   472 non-null    int64\n",
            " 5   marginal_adhesion  472 non-null    int64\n",
            " 6   epithelial_size    472 non-null    int64\n",
            " 7   bare_nucleoli      472 non-null    int64\n",
            " 8   bland_chromatin    472 non-null    int64\n",
            " 9   normal_nucleoli    472 non-null    int64\n",
            " 10  mitoses            472 non-null    int64\n",
            " 11  class              472 non-null    int64\n",
            "dtypes: int64(12)\n",
            "memory usage: 47.9 KB\n",
            "<class 'pandas.core.frame.DataFrame'>\n",
            "Int64Index: 203 entries, 96 to 54\n",
            "Data columns (total 12 columns):\n",
            " #   Column             Non-Null Count  Dtype\n",
            "---  ------             --------------  -----\n",
            " 0   index              203 non-null    int64\n",
            " 1   id                 203 non-null    int64\n",
            " 2   clump_thickness    203 non-null    int64\n",
            " 3   size_uniformity    203 non-null    int64\n",
            " 4   shape_uniformity   203 non-null    int64\n",
            " 5   marginal_adhesion  203 non-null    int64\n",
            " 6   epithelial_size    203 non-null    int64\n",
            " 7   bare_nucleoli      203 non-null    int64\n",
            " 8   bland_chromatin    203 non-null    int64\n",
            " 9   normal_nucleoli    203 non-null    int64\n",
            " 10  mitoses            203 non-null    int64\n",
            " 11  class              203 non-null    int64\n",
            "dtypes: int64(12)\n",
            "memory usage: 20.6 KB\n",
            "589    4\n",
            "365    2\n",
            "488    2\n",
            "429    2\n",
            "55     4\n",
            "      ..\n",
            "602    2\n",
            "591    2\n",
            "179    2\n",
            "482    2\n",
            "300    2\n",
            "Name: class, Length: 472, dtype: int64\n",
            "<class 'pandas.core.frame.DataFrame'>\n",
            "Int64Index: 472 entries, 589 to 300\n",
            "Data columns (total 11 columns):\n",
            " #   Column             Non-Null Count  Dtype\n",
            "---  ------             --------------  -----\n",
            " 0   index              472 non-null    int64\n",
            " 1   id                 472 non-null    int64\n",
            " 2   clump_thickness    472 non-null    int64\n",
            " 3   size_uniformity    472 non-null    int64\n",
            " 4   shape_uniformity   472 non-null    int64\n",
            " 5   marginal_adhesion  472 non-null    int64\n",
            " 6   epithelial_size    472 non-null    int64\n",
            " 7   bare_nucleoli      472 non-null    int64\n",
            " 8   bland_chromatin    472 non-null    int64\n",
            " 9   normal_nucleoli    472 non-null    int64\n",
            " 10  mitoses            472 non-null    int64\n",
            "dtypes: int64(11)\n",
            "memory usage: 44.2 KB\n",
            "<class 'pandas.core.frame.DataFrame'>\n",
            "Int64Index: 203 entries, 96 to 54\n",
            "Data columns (total 12 columns):\n",
            " #   Column             Non-Null Count  Dtype\n",
            "---  ------             --------------  -----\n",
            " 0   index              203 non-null    int64\n",
            " 1   id                 203 non-null    int64\n",
            " 2   clump_thickness    203 non-null    int64\n",
            " 3   size_uniformity    203 non-null    int64\n",
            " 4   shape_uniformity   203 non-null    int64\n",
            " 5   marginal_adhesion  203 non-null    int64\n",
            " 6   epithelial_size    203 non-null    int64\n",
            " 7   bare_nucleoli      203 non-null    int64\n",
            " 8   bland_chromatin    203 non-null    int64\n",
            " 9   normal_nucleoli    203 non-null    int64\n",
            " 10  mitoses            203 non-null    int64\n",
            " 11  class              203 non-null    int64\n",
            "dtypes: int64(12)\n",
            "memory usage: 20.6 KB\n",
            "predictions:\n",
            "[4 4 2 2 4 2 2 4 2 4 2 2 4 2 4 4 4 2 2 2 2 4 2 4 4 2 4 2 2 4 4 2 2 2 2 4 2\n",
            " 2 2 2 2 4 4 2 2 4 2 2 4 4 2 2 2 2 4 4 2 4 2 2 4 2 2 2 2 2 2 4 2 2 2 2 2 2\n",
            " 4 2 4 4 2 4 4 4 2 4 2 4 4 4 2 2 2 2 4 2 4 2 2 2 2 2 2 2 2 2 2 4 4 2 2 2 2\n",
            " 4 4 2 2 4 2 2 2 2 2 2 4 4 4 2 4 4 2 4 4 2 4 2 2 2 2 2 2 2 2 4 2 2 2 4 4 4\n",
            " 4 4 2 4 2 4 2 2 2 2 2 2 4 4 2 4 2 4 2 2 2 2 2 4 2 2 2 2 2 2 2 2 2 4 2 4 4\n",
            " 2 2 2 2 4 4 2 4 2 4 2 2 2 2 2 2 2 4]\n",
            "Матрица ошибок:\n",
            "TN:126 FP:5 FN:5 TP:67\n",
            "Accuracy score = 0.9507389162561576\n",
            "precision_score = 0.9618320610687023\n",
            "recall_score = 0.9618320610687023\n",
            "F1 score = 0.9618320610687023\n",
            "ROC = 0.9461938083121291\n",
            "96     1\n",
            "258    1\n",
            "669    0\n",
            "487    0\n",
            "84     1\n",
            "      ..\n",
            "474    0\n",
            "131    0\n",
            "477    0\n",
            "157    0\n",
            "54     1\n",
            "Name: class, Length: 203, dtype: int64\n"
          ]
        },
        {
          "data": {
            "image/png": "[encoded data removed]",
            "text/plain": [
              "<Figure size 432x288 with 1 Axes>"
            ]
          },
          "metadata": {
            "needs_background": "light"
          },
          "output_type": "display_data"
        }
      ],
      "source": [
        "from sklearn.tree import DecisionTreeClassifier\n",
        "from sklearn.model_selection import train_test_split\n",
        "\n",
        "train, test = train_test_split(df, test_size=0.3)\n",
        "\n",
        "train.info()\n",
        "test.info()\n",
        "model = DecisionTreeClassifier()\n",
        "\n",
        "train_y = train[\"class\"]\n",
        "print(train_y)\n",
        "train_X = train.drop('class', axis = 1)\n",
        "\n",
        "train_X.info()\n",
        "\n",
        "test_y = test[\"class\"]\n",
        "test_X = test.drop('class', axis = 1)\n",
        "test.info()\n",
        "\n",
        "model.fit(train_X,train_y)\n",
        "predictions = model.predict(test_X)\n",
        "print(\"predictions:\")\n",
        "print(predictions)\n",
        "\n",
        "rf_probs = model.predict_proba(test_X)[::, 1]\n",
        "\n",
        "model_check (test_y,predictions,rf_probs)"
      ]
    },
    {
      "cell_type": "markdown",
      "metadata": {},
      "source": [
        "Снова разделим набор данных на тестовую и обучающую выборки соотношением 3 к 7.\n",
        "\n",
        "Теперь произведём обучение и прогнозирование методом случайного леса - RandomForestClassifier.\n",
        "\n",
        "В переменной clf будет храниться модель. Что обучить модель, нужно запустить\n",
        "алгоритм обучения.\n",
        "\n",
        "Разделим датафрейм на столбец с целевой переменной (class) и остальные данные. Теперь уже можно построить взаимосвязь и на её основании спрогнозировать y по новым X. Чтобы запустить обучение, вызовем метод fit() и передадим ему как параметр данные.\n",
        "\n",
        "Чтобы построить прогнозы для набора данных, хватит одной строчки кода и вызова метода predict(). У нас осталась отложенная порция данных, для которых мы знаем признаки и ответы. На этом этапе мы берём только признаки, передаём их на вход обученной модели и сохраняем предсказанные значения.\n",
        "\n",
        "Теперь вызываем функцию оценки качества и смотрим на оценки и график."
      ]
    },
    {
      "cell_type": "code",
      "execution_count": 17,
      "metadata": {},
      "outputs": [
        {
          "name": "stdout",
          "output_type": "stream",
          "text": [
            "Матрица ошибок:\n",
            "TN:123 FP:4 FN:3 TP:73\n",
            "Accuracy score = 0.9655172413793104\n",
            "precision_score = 0.9761904761904762\n",
            "recall_score = 0.968503937007874\n",
            "F1 score = 0.9723320158102767\n",
            "ROC = 0.9953895565685869\n",
            "323    0\n",
            "528    1\n",
            "493    1\n",
            "396    0\n",
            "182    1\n",
            "      ..\n",
            "375    0\n",
            "346    1\n",
            "471    0\n",
            "249    1\n",
            "185    1\n",
            "Name: class, Length: 203, dtype: int64\n"
          ]
        },
        {
          "data": {
            "image/png": "[encoded data removed]",
            "text/plain": [
              "<Figure size 432x288 with 1 Axes>"
            ]
          },
          "metadata": {
            "needs_background": "light"
          },
          "output_type": "display_data"
        }
      ],
      "source": [
        "from sklearn.ensemble import RandomForestClassifier\n",
        "train, test = train_test_split(df, test_size=0.3)\n",
        "train_y = train[\"class\"]\n",
        "train_X = train.drop('class', axis = 1)\n",
        "test_y = test[\"class\"]\n",
        "test_X = test.drop('class', axis = 1)\n",
        "\n",
        "clf = RandomForestClassifier(n_estimators=100)\n",
        "clf.fit(train_X, train_y)\n",
        "y_pred = clf.predict(test_X)\n",
        "# Вероятности для каждого класса\n",
        "rf_probs = clf.predict_proba(test_X)[::, 1]\n",
        "\n",
        "model_check (test_y,y_pred,rf_probs)"
      ]
    },
    {
      "cell_type": "markdown",
      "metadata": {},
      "source": [
        "Вывод: Таким образом, в ходе выполнения лабораторной работы был выбран и описан выбранный датасет про пациентов с болезнью сердца, изучен интерфейс и возможности Jupyter Notebook, изучены базовые функции библиотеки Pandas и разработана программа, которая считывает данные, \n",
        "выводит о них информацию, удаляет дубликаты, пропуски, изменяет тип данных. Также были изучены методы классификации, стандартизированы данные, обучены различные модели, вычеслены метрики качества, получена матрица неточностей и построен график ROC-кривой."
      ]
    }
  ],
  "metadata": {
    "kernelspec": {
      "display_name": "Python 3",
      "language": "python",
      "name": "python3"
    },
    "language_info": {
      "codemirror_mode": {
        "name": "ipython",
        "version": 3
      },
      "file_extension": ".py",
      "mimetype": "text/x-python",
      "name": "python",
      "nbconvert_exporter": "python",
      "pygments_lexer": "ipython3",
      "version": "3.9.13"
    }
  },
  "nbformat": 4,
  "nbformat_minor": 4
}
