{
  "metadata": {
    "language_info": {
      "codemirror_mode": {
        "name": "python",
        "version": 3
      },
      "file_extension": ".py",
      "mimetype": "text/x-python",
      "name": "python",
      "nbconvert_exporter": "python",
      "pygments_lexer": "ipython3",
      "version": "3.8"
    },
    "kernelspec": {
      "name": "python",
      "display_name": "Python (Pyodide)",
      "language": "python"
    }
  },
  "nbformat_minor": 4,
  "nbformat": 4,
  "cells": [
    {
      "cell_type": "markdown",
      "source": "Для работы был выбран первый датасет из списка под названием «1 auto». В данном датасете представлена информация о продающихся \nмашинах: названии, цене, годе выпуска, трансмиссии и пр. Чтобы начать работу, импортируем библиотеку, а затем считываем CSV файл.Выведем первые 20 строк с помощью метода head.",
      "metadata": {}
    },
    {
      "cell_type": "code",
      "source": "import pandas as pd\n\ndf = pd.read_csv(\"data/1auto.csv\")\n\n#3\nprint(df.head(20))",
      "metadata": {
        "trusted": true
      },
      "execution_count": 2,
      "outputs": [
        {
          "name": "stdout",
          "text": "                               Name    year  SellingPrice  kmdriven    fuel  \\\n0                     Maruti 800 AC  '2007'       60000.0   70000.0  Petrol   \n1          Maruti Wagon R LXI Minor    2007      135000.0   50000.0  Petrol   \n2              Hyundai Verna 1.6 SX    2012      600000.0  100000.0  Diesel   \n3            Datsun RediGO T Option    2017      250000.0   46000.0  Petrol   \n4             Honda Amaze VX i-DTEC    2014      450000.0  141000.0  Diesel   \n5              Maruti Alto LX BSIII    2007      140000.0  125000.0  Petrol   \n6         Hyundai Xcent 1.2 Kappa S    2016      550000.0   25000.0  Petrol   \n7          Tata Indigo Grand Petrol    2014      240000.0   60000.0  Petrol   \n8          Hyundai Creta 1.6 VTVT S    2015      850000.0   25000.0  Petrol   \n9          Maruti Celerio Green VXI    2017      365000.0   78000.0     CNG   \n10          Chevrolet Sail 1.2 Base    2015      260000.0   35000.0  Petrol   \n11         Tata Indigo Grand Petrol    2014      250000.0  100000.0  Petrol   \n12  Toyota Corolla Altis 1.8 VL CVT    2018     1650000.0   25000.0  Petrol   \n13                    Maruti 800 AC    2007       60000.0   70000.0  Petrol   \n14         Maruti Wagon R LXI Minor    2007      135000.0   50000.0  Petrol   \n15             Hyundai Verna 1.6 SX    2012      600000.0  100000.0  Diesel   \n16           Datsun RediGO T Option    2017      250000.0   46000.0  Petrol   \n17            Honda Amaze VX i-DTEC    2014      450000.0  141000.0  Diesel   \n18             Maruti Alto LX BSIII    2007      140000.0  125000.0  Petrol   \n19        Hyundai Xcent 1.2 Kappa S    2016      550000.0   25000.0  Petrol   \n\n   seller_Type transmission         owner  \n0   Individual       Manual   First Owner  \n1   Individual       Manual   First Owner  \n2   Individual       Manual   First Owner  \n3   Individual       Manual   First Owner  \n4   Individual       Manual  Second Owner  \n5   Individual       Manual   First Owner  \n6   Individual       Manual   First Owner  \n7   Individual       Manual  Second Owner  \n8   Individual       Manual   First Owner  \n9   Individual       Manual   First Owner  \n10  Individual       Manual   First Owner  \n11  Individual       Manual   First Owner  \n12      Dealer    Automatic   First Owner  \n13  Individual       Manual   First Owner  \n14  Individual       Manual   First Owner  \n15  Individual       Manual   First Owner  \n16  Individual       Manual   First Owner  \n17  Individual       Manual  Second Owner  \n18  Individual       Manual   First Owner  \n19  Individual       Manual   First Owner  \n",
          "output_type": "stream"
        }
      ]
    },
    {
      "cell_type": "markdown",
      "source": "Как уже было сказано, данная таблица содержит информацию о продаваемых автомобилях. Предметная область – автомобили и продажи. \nОпишем колонки подробнее:\nName – Марка и модель автомобиля\nYear – год выпуска \nSellingPrice – цена продажи, скорее всего в рублях\nKmdriven – пробег авто\nFuel – тип топлива (бензин, дизель, углеводородный или \nкомпримированный газ, электричество)\nSellerType – кто продаёт машину (собственник или салон)\nTransmission – тип коробки передач (ручная или автоматическая КПП)\nOwner – каким по счёту владельцем будет купивший \n    Теперь с помощью метода «.info» оценим данные. Этот метод \nвозвращает название столбцов, типы данных, количество ненулевых \nобъектов каждом столбце.",
      "metadata": {}
    },
    {
      "cell_type": "code",
      "source": "#5\ndf.info()",
      "metadata": {
        "trusted": true
      },
      "execution_count": 3,
      "outputs": [
        {
          "name": "stdout",
          "text": "<class 'pandas.core.frame.DataFrame'>\nRangeIndex: 4344 entries, 0 to 4343\nData columns (total 8 columns):\n #   Column        Non-Null Count  Dtype  \n---  ------        --------------  -----  \n 0   Name          4344 non-null   object \n 1   year          4344 non-null   object \n 2   SellingPrice  4342 non-null   float64\n 3   kmdriven      4343 non-null   float64\n 4   fuel          4343 non-null   object \n 5   seller_Type   4344 non-null   object \n 6   transmission  4344 non-null   object \n 7   owner         4344 non-null   object \ndtypes: float64(2), object(6)\nmemory usage: 169.8+ KB\n",
          "output_type": "stream"
        }
      ]
    },
    {
      "cell_type": "markdown",
      "source": "Теперь выведем названия столбцов с помощью df.columns. Как можно увидеть некоторые названия столбцов (SellingPrice, \nkmdriven, и seller_Type) не очень понятны для прочтения, поэтому при помощи метода «rename» они были переименованы в \ncelling_price, km_driven и seller_type.",
      "metadata": {}
    },
    {
      "cell_type": "code",
      "source": "#6\nprint(df.columns)\ndf = df.rename(columns={'SellingPrice': 'celling_price', 'kmdriven':\n'km_driven', 'seller_Type': 'seller_type'})",
      "metadata": {
        "trusted": true
      },
      "execution_count": 4,
      "outputs": [
        {
          "name": "stdout",
          "text": "Index(['Name', 'year', 'SellingPrice', 'kmdriven', 'fuel', 'seller_Type',\n       'transmission', 'owner'],\n      dtype='object')\n",
          "output_type": "stream"
        }
      ]
    },
    {
      "cell_type": "markdown",
      "source": "Найдём пропуски и устраним их. При помощи метода «isna» найдём все пропуски в таблице, а также при помощи sum выведем количество \nпропусков в каждом столбце. Как мы можем увидеть присутствуют пропуски в столбцах цены и пробега. Так как это одни из самых важных столбцов, строки без \nинформации в них не имеют смысла, поэтому их стоит удалить при помощи метода «dropna». Проверяем пропуски еще раз и их больше нет. ",
      "metadata": {}
    },
    {
      "cell_type": "code",
      "source": "#7\nprint(df.isna())\nprint(df.isna().sum())\ndf = df.dropna(subset=['celling_price', 'km_driven'])\nprint(df.isna().sum())\nprint(df.isna())",
      "metadata": {
        "trusted": true
      },
      "execution_count": 5,
      "outputs": [
        {
          "name": "stdout",
          "text": "       Name   year  celling_price  km_driven   fuel  seller_type  \\\n0     False  False          False      False  False        False   \n1     False  False          False      False  False        False   \n2     False  False          False      False  False        False   \n3     False  False          False      False  False        False   \n4     False  False          False      False  False        False   \n...     ...    ...            ...        ...    ...          ...   \n4339  False  False          False      False  False        False   \n4340  False  False          False      False  False        False   \n4341  False  False          False      False  False        False   \n4342  False  False           True       True  False        False   \n4343  False  False           True      False   True        False   \n\n      transmission  owner  \n0            False  False  \n1            False  False  \n2            False  False  \n3            False  False  \n4            False  False  \n...            ...    ...  \n4339         False  False  \n4340         False  False  \n4341         False  False  \n4342         False  False  \n4343         False  False  \n\n[4344 rows x 8 columns]\nName             0\nyear             0\ncelling_price    2\nkm_driven        1\nfuel             1\nseller_type      0\ntransmission     0\nowner            0\ndtype: int64\nName             0\nyear             0\ncelling_price    0\nkm_driven        0\nfuel             0\nseller_type      0\ntransmission     0\nowner            0\ndtype: int64\n       Name   year  celling_price  km_driven   fuel  seller_type  \\\n0     False  False          False      False  False        False   \n1     False  False          False      False  False        False   \n2     False  False          False      False  False        False   \n3     False  False          False      False  False        False   \n4     False  False          False      False  False        False   \n...     ...    ...            ...        ...    ...          ...   \n4337  False  False          False      False  False        False   \n4338  False  False          False      False  False        False   \n4339  False  False          False      False  False        False   \n4340  False  False          False      False  False        False   \n4341  False  False          False      False  False        False   \n\n      transmission  owner  \n0            False  False  \n1            False  False  \n2            False  False  \n3            False  False  \n4            False  False  \n...            ...    ...  \n4337         False  False  \n4338         False  False  \n4339         False  False  \n4340         False  False  \n4341         False  False  \n\n[4342 rows x 8 columns]\n",
          "output_type": "stream"
        }
      ]
    },
    {
      "cell_type": "markdown",
      "source": "Проверим данные на наличие дубликатов. Так как уникальным значением в данном наборе является только индекс, то удалить можно лишь \nполностью повторяющие строки. Их 764. При помощи метода «drop_duplicates» удаляем дубликаты и проверяем заново. Однако после проверки всех столбцов было выявлено, что в столбце года выпуска 2007 год имеет два вида написания. При помощи метода «replace» удаляем дубликаты и проверяем заново.",
      "metadata": {}
    },
    {
      "cell_type": "code",
      "source": "#8\nprint(df.duplicated().sum())\ndf = df.drop_duplicates().reset_index()\nprint(df.duplicated().sum())\ndf.info()\n\nprint(df[\"year\"].unique(), \"\\n\")\ndf['year'] = df['year'].replace(\"'2007'\", \"2007\")\nprint(df[\"year\"].unique())",
      "metadata": {
        "trusted": true
      },
      "execution_count": 6,
      "outputs": [
        {
          "name": "stdout",
          "text": "764\n0\n<class 'pandas.core.frame.DataFrame'>\nRangeIndex: 3578 entries, 0 to 3577\nData columns (total 9 columns):\n #   Column         Non-Null Count  Dtype  \n---  ------         --------------  -----  \n 0   index          3578 non-null   int64  \n 1   Name           3578 non-null   object \n 2   year           3578 non-null   object \n 3   celling_price  3578 non-null   float64\n 4   km_driven      3578 non-null   float64\n 5   fuel           3578 non-null   object \n 6   seller_type    3578 non-null   object \n 7   transmission   3578 non-null   object \n 8   owner          3578 non-null   object \ndtypes: float64(2), int64(1), object(6)\nmemory usage: 167.8+ KB\n[\"'2007'\" '2007' '2012' '2017' '2014' '2016' '2015' '2018' '2019' '2013'\n '2011' '2010' '2009' '2006' '1996' '2005' '2008' '2004' '1998' '2003'\n '2002' '2020' '2000' '1999' '2001' '1995' '1997' '1992'] \n\n['2007' '2012' '2017' '2014' '2016' '2015' '2018' '2019' '2013' '2011'\n '2010' '2009' '2006' '1996' '2005' '2008' '2004' '1998' '2003' '2002'\n '2020' '2000' '1999' '2001' '1995' '1997' '1992']\n",
          "output_type": "stream"
        }
      ]
    },
    {
      "cell_type": "markdown",
      "source": "Проверим все ли типы данных соответствуют действительности. Все столбцы, кроме года выпуска соответствуют своему типу. Поэтому при \nпомощи метода «to_datetime» изменяем тип на временной и проверяем результат.",
      "metadata": {}
    },
    {
      "cell_type": "code",
      "source": "#9\ndf['year'] = pd.to_datetime(df['year'], format='%Y')\ndf.info()\nprint(df[\"year\"].unique())",
      "metadata": {
        "trusted": true
      },
      "execution_count": 8,
      "outputs": [
        {
          "name": "stdout",
          "text": "<class 'pandas.core.frame.DataFrame'>\nRangeIndex: 3578 entries, 0 to 3577\nData columns (total 9 columns):\n #   Column         Non-Null Count  Dtype         \n---  ------         --------------  -----         \n 0   index          3578 non-null   int64         \n 1   Name           3578 non-null   object        \n 2   year           3578 non-null   datetime64[ns]\n 3   celling_price  3578 non-null   float64       \n 4   km_driven      3578 non-null   float64       \n 5   fuel           3578 non-null   object        \n 6   seller_type    3578 non-null   object        \n 7   transmission   3578 non-null   object        \n 8   owner          3578 non-null   object        \ndtypes: datetime64[ns](1), float64(2), int64(1), object(5)\nmemory usage: 181.8+ KB\n['2007-01-01T00:00:00.000000000' '2012-01-01T00:00:00.000000000'\n '2017-01-01T00:00:00.000000000' '2014-01-01T00:00:00.000000000'\n '2016-01-01T00:00:00.000000000' '2015-01-01T00:00:00.000000000'\n '2018-01-01T00:00:00.000000000' '2019-01-01T00:00:00.000000000'\n '2013-01-01T00:00:00.000000000' '2011-01-01T00:00:00.000000000'\n '2010-01-01T00:00:00.000000000' '2009-01-01T00:00:00.000000000'\n '2006-01-01T00:00:00.000000000' '1996-01-01T00:00:00.000000000'\n '2005-01-01T00:00:00.000000000' '2008-01-01T00:00:00.000000000'\n '2004-01-01T00:00:00.000000000' '1998-01-01T00:00:00.000000000'\n '2003-01-01T00:00:00.000000000' '2002-01-01T00:00:00.000000000'\n '2020-01-01T00:00:00.000000000' '2000-01-01T00:00:00.000000000'\n '1999-01-01T00:00:00.000000000' '2001-01-01T00:00:00.000000000'\n '1995-01-01T00:00:00.000000000' '1997-01-01T00:00:00.000000000'\n '1992-01-01T00:00:00.000000000']\n",
          "output_type": "stream"
        }
      ]
    },
    {
      "cell_type": "markdown",
      "source": "Создадим сводную таблицу при помощи метода «data_pivot». Индексацию возьмём по году производства машины, а колонки по трансмиссии (механика или автомат). Подсчёт будет по сумме стоимости. Таким образом, получится таблица, показывающая, на какой год и с какую коробку передач приходится больше всего суммарная стоимость машин. Это машины 17-18 года с автоматической коробкой передач.",
      "metadata": {}
    },
    {
      "cell_type": "code",
      "source": "#10\ndata_pivot = df.pivot_table(index=['year'], columns='transmission', values='celling_price', aggfunc='sum')\nprint(data_pivot)",
      "metadata": {
        "trusted": true
      },
      "execution_count": 9,
      "outputs": [
        {
          "name": "stdout",
          "text": "transmission   Automatic       Manual\nyear                                 \n1992-01-01           NaN      50000.0\n1995-01-01           NaN      95000.0\n1996-01-01           NaN     450000.0\n1997-01-01       79000.0     200000.0\n1998-01-01     1000000.0     486000.0\n1999-01-01           NaN     665000.0\n2000-01-01           NaN     978000.0\n2001-01-01           NaN    1752999.0\n2002-01-01           NaN    1550000.0\n2003-01-01       95000.0    1821000.0\n2004-01-01      350000.0    4464499.0\n2005-01-01           NaN    7004108.0\n2006-01-01     2855000.0   11483997.0\n2007-01-01     2030000.0   17367999.0\n2008-01-01     2080000.0   20839194.0\n2009-01-01     5963000.0   33830994.0\n2010-01-01    11320000.0   46552683.0\n2011-01-01    13368999.0   59749989.0\n2012-01-01    25383000.0  102837985.0\n2013-01-01    26830000.0  102217793.0\n2014-01-01    32548999.0  132075986.0\n2015-01-01    24685999.0  144650986.0\n2016-01-01    40837999.0  139812987.0\n2017-01-01    82063999.0  174385986.0\n2018-01-01    77316000.0  164707990.0\n2019-01-01    43638998.0   96549997.0\n2020-01-01     5340000.0   30877998.0\n",
          "output_type": "stream"
        }
      ]
    },
    {
      "cell_type": "markdown",
      "source": "Вывод: Таким образом, в ходе выполнения лабораторной работы был выбран и описан выбранный датасет про продаваемые автомобили, изучен \nинтерфейс и возможности Jupyter Notebook, изучены базовые функции библиотеки Pandas и разработана программа, которая считывает данные, \nвыводит о них информацию, удаляет дубликаты, пропуски, изменяет тип данных и создаёт сводную таблицу.",
      "metadata": {}
    }
  ]
}